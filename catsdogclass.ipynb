!wget --no-check-certificate \https://storage.googleapis.com/mledu-datasets/cats_and_dogs_filtered.zip \
-O /tmp/cats_and_dogs_filtered.zip
import os
import zipfile
local_zip='/tmp/cats_and_dogs_filtered.zip'
zip_ref=zipfile.ZipFile(local_zip,'r')
zip_ref.extractall('/tmp')
zip_ref.close()
base_dir='/tmp/cats_and_dogs_filtered'
train_dir=os.path.join(base_dir,'train')
validation_dir=os.path.join(base_dir,'validation')
from PIL import Image
import numpy as np
NUMBER_OF_EXAMPLES=10
x_train=[]
y_train=[]
cats_dir=os.path.join(train_dir,'cats')
dogs_dir=os.path.join(train_dir,'dogs')
i=0
while i<NUMBER_OF_EXAMPLES:
  if (i%2==0):
    im=Image.open(os.path.join(cats_dir,os.listdir(cats_dir)[i])).convert("RGB")
    im_resized=im.resize((150,150))
    x_train.append(np.array(im_resized))
    y_train.append(1)
  else:
    im=Image.open(os.path.join(dogs_dir,os.listdir(dogs_dir)[i])).convert("RGB")
    im_resized=im.resize((150,150))
    x_train.append(np.array(im_resized))
    y_train.append(1)
  i+=1
import tensorflow as tf
model=tf.keras.models.Sequential()
pretrained_model=tf.keras.applications.ResNet50V2(include_top=False,weights='imagenet',input_shape=(150,150,3),pooling='avg',classes=2)
model.add(pretrained_model)
model.add(tf.keras.layers.Flatten())
model.add(tf.keras.layers.Dense(64,activation='relu'))
model.add(tf.keras.layers.Dense(2,activation='softmax'))
model.compile(optimizer='adam',loss='sparse_categorical_crossentropy',metrics=['accuracy'])
x_train=np.array(x_train)
y_train=np.array(y_train)
model.fit(x_train,y_train,epochs=5)
