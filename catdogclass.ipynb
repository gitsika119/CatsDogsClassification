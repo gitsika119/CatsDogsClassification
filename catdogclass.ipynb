{
  "nbformat": 4,
  "nbformat_minor": 0,
  "metadata": {
    "colab": {
      "provenance": []
    },
    "kernelspec": {
      "name": "python3",
      "display_name": "Python 3"
    },
    "language_info": {
      "name": "python"
    }
  },
  "cells": [
    {
      "cell_type": "code",
      "execution_count": null,
      "metadata": {
        "id": "KAgd4YSfGvCE"
      },
      "outputs": [],
      "source": [
        "!wget --no-check-certificate \\https://storage.googleapis.com/mledu-datasets/cats_and_dogs_filtered.zip \\\n",
        "-O /tmp/cats_and_dogs_filtered.zip\n",
        "import os\n",
        "import zipfile\n",
        "local_zip='/tmp/cats_and_dogs_filtered.zip'\n",
        "zip_ref=zipfile.ZipFile(local_zip,'r')\n",
        "zip_ref.extractall('/tmp')\n",
        "zip_ref.close()\n",
        "base_dir='/tmp/cats_and_dogs_filtered'\n",
        "train_dir=os.path.join(base_dir,'train')\n",
        "validation_dir=os.path.join(base_dir,'validation')\n",
        "from PIL import Image\n",
        "import numpy as np\n",
        "NUMBER_OF_EXAMPLES=10\n",
        "x_train=[]\n",
        "y_train=[]\n",
        "cats_dir=os.path.join(train_dir,'cats')\n",
        "dogs_dir=os.path.join(train_dir,'dogs')\n",
        "i=0\n",
        "while i<NUMBER_OF_EXAMPLES:\n",
        "  if (i%2==0):\n",
        "    im=Image.open(os.path.join(cats_dir,os.listdir(cats_dir)[i])).convert(\"RGB\")\n",
        "    im_resized=im.resize((150,150))\n",
        "    x_train.append(np.array(im_resized))\n",
        "    y_train.append(1)\n",
        "  else:\n",
        "    im=Image.open(os.path.join(dogs_dir,os.listdir(dogs_dir)[i])).convert(\"RGB\")\n",
        "    im_resized=im.resize((150,150))\n",
        "    x_train.append(np.array(im_resized))\n",
        "    y_train.append(1)\n",
        "  i+=1\n",
        "import tensorflow as tf\n",
        "model=tf.keras.models.Sequential()\n",
        "pretrained_model=tf.keras.applications.ResNet50V2(include_top=False,weights='imagenet',input_shape=(150,150,3),pooling='avg',classes=2)\n",
        "model.add(pretrained_model)\n",
        "model.add(tf.keras.layers.Flatten())\n",
        "model.add(tf.keras.layers.Dense(64,activation='relu'))\n",
        "model.add(tf.keras.layers.Dense(2,activation='softmax'))\n",
        "model.compile(optimizer='adam',loss='sparse_categorical_crossentropy',metrics=['accuracy'])\n",
        "x_train=np.array(x_train)\n",
        "y_train=np.array(y_train)\n",
        "model.fit(x_train,y_train,epochs=5)\n"
      ]
    }
  ]
}